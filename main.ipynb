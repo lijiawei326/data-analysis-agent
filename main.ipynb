{
 "cells": [
  {
   "cell_type": "code",
   "execution_count": 1,
   "metadata": {},
   "outputs": [],
   "source": [
    "from agents import Agent\n",
    "from agents.mcp.server import MCPServerStdio, MCPServerStdioParams\n",
    "\n",
    "import os\n",
    "from dotenv import load_dotenv\n",
    "load_dotenv(override=True)\n",
    "\n",
    "from openai import AsyncOpenAI\n",
    "from agents import OpenAIChatCompletionsModel\n",
    "\n",
    "from agents import Runner, set_tracing_disabled\n",
    "set_tracing_disabled(True)\n",
    "\n",
    "from agents import function_tool, RunContextWrapper\n",
    "from dataclasses import dataclass\n",
    "\n",
    "import pandas as pd\n",
    "import numpy as np\n",
    "from typing import Dict, Any, List\n"
   ]
  },
  {
   "cell_type": "code",
   "execution_count": 2,
   "metadata": {},
   "outputs": [],
   "source": [
    "# 定义模型\n",
    "BASE_URL = os.getenv(\"BASE_URL\")\n",
    "API_KEY = os.getenv(\"API_KEY\")\n",
    "MODEL = os.getenv(\"MODEL\")\n",
    "\n",
    "client = AsyncOpenAI(\n",
    "    base_url=BASE_URL,\n",
    "    api_key=API_KEY\n",
    ")\n",
    "\n",
    "model = OpenAIChatCompletionsModel(\n",
    "    openai_client=client,\n",
    "    model=MODEL,\n",
    ")"
   ]
  },
  {
   "cell_type": "code",
   "execution_count": 3,
   "metadata": {},
   "outputs": [],
   "source": [
    "params = MCPServerStdioParams(\n",
    "    command=\"python\",\n",
    "    args=[\"./server/extract_data.py\"]\n",
    ")\n",
    "server = MCPServerStdio(\n",
    "    name=\"extract_data\",\n",
    "    params=params\n",
    ")\n",
    "await server.connect()"
   ]
  },
  {
   "cell_type": "code",
   "execution_count": 4,
   "metadata": {},
   "outputs": [
    {
     "data": {
      "text/plain": [
       "Data(data=None)"
      ]
     },
     "execution_count": 4,
     "metadata": {},
     "output_type": "execute_result"
    }
   ],
   "source": [
    "@dataclass\n",
    "class Data:\n",
    "    data: Any\n",
    "\n",
    "data = Data(data=None)\n",
    "data"
   ]
  },
  {
   "cell_type": "code",
   "execution_count": 5,
   "metadata": {},
   "outputs": [],
   "source": [
    "@function_tool\n",
    "async def extract_data(\n",
    "    context: RunContextWrapper,    # 隐式参数： 不写进Json Schema\n",
    "    file_path: str                 # 显式参数： 写进Json Schema\n",
    "):\n",
    "    \"\"\"\n",
    "    读取指定路径的数据\n",
    "    :param file_path: 文件路径\n",
    "    \"\"\"\n",
    "    df = pd.read_csv(file_path)\n",
    "    context.context.data = df\n",
    "    return f'已从{file_path}读取数据'"
   ]
  },
  {
   "cell_type": "code",
   "execution_count": 6,
   "metadata": {},
   "outputs": [],
   "source": [
    "agent1 = Agent(\n",
    "    name=\"Extractor\",\n",
    "    instructions=\"根据用户需求，从指定路径或数据库提取数据\",\n",
    "    tools=[extract_data],\n",
    "    model=model\n",
    ")"
   ]
  },
  {
   "cell_type": "code",
   "execution_count": 7,
   "metadata": {},
   "outputs": [],
   "source": [
    "result = await Runner.run(\n",
    "    starting_agent=agent1,\n",
    "    input='读取test.csv',\n",
    "    context=data\n",
    ")"
   ]
  },
  {
   "cell_type": "code",
   "execution_count": 8,
   "metadata": {},
   "outputs": [
    {
     "data": {
      "text/plain": [
       "[{'content': '读取test.csv', 'role': 'user'},\n",
       " {'arguments': '{\"file_path\":\"test.csv\"}',\n",
       "  'call_id': 'call_yl4mefl7',\n",
       "  'name': 'extract_data',\n",
       "  'type': 'function_call',\n",
       "  'id': '__fake_id__'},\n",
       " {'call_id': 'call_yl4mefl7',\n",
       "  'output': '已从test.csv读取数据',\n",
       "  'type': 'function_call_output'},\n",
       " {'id': '__fake_id__',\n",
       "  'content': [{'annotations': [],\n",
       "    'text': '<think>\\n好的，用户让我读取test.csv文件，我需要先确认这个文件的位置。通常，如果用户没有指定具体路径，可能默认是在当前工作目录下。我需要调用extract_data函数，参数是file_path为\"test.csv\"。然后系统会处理读取操作，返回结果。用户可能接下来需要查看数据内容或者进行进一步的分析，我应该准备好后续步骤。不过现在只需要确认文件是否成功读取，如果有错误可能需要处理异常，但根据回复显示已成功读取，所以下一步可以询问用户是否需要查看数据或进行其他操作。\\n</think>\\n\\n已成功从test.csv读取数据。您是否需要查看数据内容或进行进一步的操作？',\n",
       "    'type': 'output_text'}],\n",
       "  'role': 'assistant',\n",
       "  'status': 'completed',\n",
       "  'type': 'message'}]"
      ]
     },
     "execution_count": 8,
     "metadata": {},
     "output_type": "execute_result"
    }
   ],
   "source": [
    "result.to_input_list()"
   ]
  },
  {
   "cell_type": "code",
   "execution_count": 11,
   "metadata": {},
   "outputs": [
    {
     "data": {
      "text/html": [
       "<div>\n",
       "<style scoped>\n",
       "    .dataframe tbody tr th:only-of-type {\n",
       "        vertical-align: middle;\n",
       "    }\n",
       "\n",
       "    .dataframe tbody tr th {\n",
       "        vertical-align: top;\n",
       "    }\n",
       "\n",
       "    .dataframe thead th {\n",
       "        text-align: right;\n",
       "    }\n",
       "</style>\n",
       "<table border=\"1\" class=\"dataframe\">\n",
       "  <thead>\n",
       "    <tr style=\"text-align: right;\">\n",
       "      <th></th>\n",
       "      <th>col1</th>\n",
       "      <th>col2</th>\n",
       "    </tr>\n",
       "  </thead>\n",
       "  <tbody>\n",
       "    <tr>\n",
       "      <th>0</th>\n",
       "      <td>1</td>\n",
       "      <td>4</td>\n",
       "    </tr>\n",
       "    <tr>\n",
       "      <th>1</th>\n",
       "      <td>2</td>\n",
       "      <td>5</td>\n",
       "    </tr>\n",
       "    <tr>\n",
       "      <th>2</th>\n",
       "      <td>3</td>\n",
       "      <td>6</td>\n",
       "    </tr>\n",
       "  </tbody>\n",
       "</table>\n",
       "</div>"
      ],
      "text/plain": [
       "   col1  col2\n",
       "0     1     4\n",
       "1     2     5\n",
       "2     3     6"
      ]
     },
     "execution_count": 11,
     "metadata": {},
     "output_type": "execute_result"
    }
   ],
   "source": [
    "data.data"
   ]
  },
  {
   "cell_type": "code",
   "execution_count": 26,
   "metadata": {},
   "outputs": [
    {
     "name": "stdout",
     "output_type": "stream",
     "text": [
      "\u001b[0;31mInit signature:\u001b[0m \u001b[0mRunner\u001b[0m\u001b[0;34m(\u001b[0m\u001b[0;34m)\u001b[0m\u001b[0;34m\u001b[0m\u001b[0;34m\u001b[0m\u001b[0m\n",
      "\u001b[0;31mDocstring:\u001b[0m      <no docstring>\n",
      "\u001b[0;31mFile:\u001b[0m           ~/anaconda3/envs/LLM/lib/python3.12/site-packages/agents/run.py\n",
      "\u001b[0;31mType:\u001b[0m           type\n",
      "\u001b[0;31mSubclasses:\u001b[0m     "
     ]
    }
   ],
   "source": [
    "Runner?"
   ]
  },
  {
   "cell_type": "code",
   "execution_count": 40,
   "metadata": {},
   "outputs": [
    {
     "data": {
      "text/plain": [
       "[{'content': '读取test.csv', 'role': 'user'},\n",
       " {'arguments': '{\"file_path\":\"test.csv\"}',\n",
       "  'call_id': 'call_7qfroykb',\n",
       "  'name': 'extract_data',\n",
       "  'type': 'function_call',\n",
       "  'id': '__fake_id__'},\n",
       " {'call_id': 'call_7qfroykb',\n",
       "  'output': '已从test.csv读取数据',\n",
       "  'type': 'function_call_output'},\n",
       " {'id': '__fake_id__',\n",
       "  'content': [{'annotations': [],\n",
       "    'text': '<think>\\n好的，用户让我读取test.csv文件，我已经调用了extract_data函数，并且得到了响应，说已经成功读取数据。现在需要根据这个结果给出回答。首先，我应该确认数据读取是否成功，根据工具返回的信息，是成功的。接下来，用户可能想知道数据的内容或者接下来要做什么。但用户当前的指令只是读取文件，所以应该先反馈读取成功，并询问是否有进一步的操作需求。比如是否需要查看数据内容、分析数据或者处理数据等。这样既确认了当前操作的结果，又引导用户提出下一步的要求，确保对话的连贯性和效率。同时，要保持回答简洁明了，避免冗余信息。需要检查是否有其他可能的意图，但根据用户当前的提问，没有更多细节，所以保持基本的确认和询问即可。\\n</think>\\n\\n已成功从 `test.csv` 文件中读取数据。您是否需要查看数据内容、进行分析或执行其他操作？',\n",
       "    'type': 'output_text'}],\n",
       "  'role': 'assistant',\n",
       "  'status': 'completed',\n",
       "  'type': 'message'}]"
      ]
     },
     "execution_count": 40,
     "metadata": {},
     "output_type": "execute_result"
    }
   ],
   "source": [
    "result.to_input_list()"
   ]
  },
  {
   "cell_type": "code",
   "execution_count": 4,
   "metadata": {},
   "outputs": [],
   "source": [
    "agent1 = Agent(\n",
    "    name=\"Extractor\",\n",
    "    instructions=\"根据用户需求，从指定路径或数据库提取数据\",\n",
    "    mcp_servers=[server],\n",
    "    model=model\n",
    ")\n",
    "agent2 = Agent(\n",
    "    name=\"Extractor\",\n",
    "    instructions=\"根据用户需求，从指定路径或数据库提取数据\",\n",
    "    mcp_servers=[server],\n",
    "    model=model\n",
    ")"
   ]
  },
  {
   "cell_type": "code",
   "execution_count": 14,
   "metadata": {},
   "outputs": [],
   "source": [
    "@dataclass\n",
    "class Data:\n",
    "    data: Any\n",
    "    \"数据内容\"\n",
    "\n",
    "    washed: bool = False\n",
    "    \"是否清洗\"\n",
    "\n",
    "@dataclass\n",
    "class AnalysisResult:\n",
    "    id: str\n",
    "    \"数据分析id\"\n",
    "\n",
    "    text: str\n",
    "    \"数据分析结果文本\"\n",
    "\n",
    "@dataclass\n",
    "class PictureResult:\n",
    "    title: str\n",
    "    \"图片名称\"\n",
    "\n",
    "    path: str\n",
    "    \"图片路径\"\n",
    "\n",
    "    description: str = None\n",
    "    \"图片描述\"\n",
    "\n",
    "\n",
    "@dataclass\n",
    "class AnalysisContext:\n",
    "    data: Data\n",
    "    result: Dict[str, AnalysisResult]\n",
    "    pics: Dict[str, PictureResult]"
   ]
  },
  {
   "cell_type": "code",
   "execution_count": 25,
   "metadata": {},
   "outputs": [
    {
     "ename": "ModuleNotFoundError",
     "evalue": "No module named 'types.types'; 'types' is not a package",
     "output_type": "error",
     "traceback": [
      "\u001b[0;31m---------------------------------------------------------------------------\u001b[0m",
      "\u001b[0;31mModuleNotFoundError\u001b[0m                       Traceback (most recent call last)",
      "Cell \u001b[0;32mIn[25], line 1\u001b[0m\n\u001b[0;32m----> 1\u001b[0m \u001b[38;5;28;01mfrom\u001b[39;00m \u001b[38;5;21;01mtypes\u001b[39;00m\u001b[38;5;21;01m.\u001b[39;00m\u001b[38;5;21;01mtypes\u001b[39;00m \u001b[38;5;28;01mimport\u001b[39;00m Data\n",
      "\u001b[0;31mModuleNotFoundError\u001b[0m: No module named 'types.types'; 'types' is not a package"
     ]
    }
   ],
   "source": [
    "from types.types import Data"
   ]
  },
  {
   "cell_type": "code",
   "execution_count": 12,
   "metadata": {},
   "outputs": [
    {
     "ename": "ModuleNotFoundError",
     "evalue": "No module named 'types.types'; 'types' is not a package",
     "output_type": "error",
     "traceback": [
      "\u001b[0;31m---------------------------------------------------------------------------\u001b[0m",
      "\u001b[0;31mModuleNotFoundError\u001b[0m                       Traceback (most recent call last)",
      "Cell \u001b[0;32mIn[12], line 1\u001b[0m\n\u001b[0;32m----> 1\u001b[0m \u001b[38;5;28;01mfrom\u001b[39;00m \u001b[38;5;21;01magent\u001b[39;00m \u001b[38;5;28;01mimport\u001b[39;00m extract_data_agent\n",
      "File \u001b[0;32m~/disk1/LLM-ljw/agent/analysis-agent/agent/extract_data_agent.py:4\u001b[0m\n\u001b[1;32m      2\u001b[0m \u001b[38;5;28;01mfrom\u001b[39;00m \u001b[38;5;21;01magents\u001b[39;00m \u001b[38;5;28;01mimport\u001b[39;00m Agent\n\u001b[1;32m      3\u001b[0m \u001b[38;5;28;01mfrom\u001b[39;00m \u001b[38;5;21;01mmodel_provider\u001b[39;00m \u001b[38;5;28;01mimport\u001b[39;00m model_provider\n\u001b[0;32m----> 4\u001b[0m \u001b[38;5;28;01mfrom\u001b[39;00m \u001b[38;5;21;01mtypes\u001b[39;00m\u001b[38;5;21;01m.\u001b[39;00m\u001b[38;5;21;01mtypes\u001b[39;00m \u001b[38;5;28;01mimport\u001b[39;00m Data\n\u001b[1;32m      7\u001b[0m extract_data_agent \u001b[38;5;241m=\u001b[39m Agent[Data](\n\u001b[1;32m      8\u001b[0m     name\u001b[38;5;241m=\u001b[39m\u001b[38;5;124m\"\u001b[39m\u001b[38;5;124mExtractor\u001b[39m\u001b[38;5;124m\"\u001b[39m,\n\u001b[1;32m      9\u001b[0m     instructions\u001b[38;5;241m=\u001b[39m\u001b[38;5;124m\"\u001b[39m\u001b[38;5;124m根据用户需求，从指定路径或数据库提取数据\u001b[39m\u001b[38;5;124m\"\u001b[39m,\n\u001b[1;32m     10\u001b[0m     tools\u001b[38;5;241m=\u001b[39m[extract_data],\n\u001b[1;32m     11\u001b[0m     model\u001b[38;5;241m=\u001b[39mmodel_provider\u001b[38;5;241m.\u001b[39mget_model()\n\u001b[1;32m     12\u001b[0m )\n",
      "\u001b[0;31mModuleNotFoundError\u001b[0m: No module named 'types.types'; 'types' is not a package"
     ]
    }
   ],
   "source": [
    "from agent import extract_data_agent"
   ]
  },
  {
   "cell_type": "code",
   "execution_count": 15,
   "metadata": {},
   "outputs": [],
   "source": [
    "# 创建一个随机的AnalysisContext对象\n",
    "import pandas as pd\n",
    "import numpy as np\n",
    "from datetime import datetime\n",
    "\n",
    "# 创建随机数据\n",
    "np.random.seed(42)\n",
    "# data = pd.DataFrame({\n",
    "#     'A': np.random.normal(0, 1, 100),\n",
    "#     'B': np.random.normal(5, 2, 100),\n",
    "#     'C': np.random.choice(['类别1', '类别2', '类别3'], 100),\n",
    "#     'D': pd.date_range(start='2023-01-01', periods=100)\n",
    "# })\n",
    "data = None\n",
    "# 创建Data对象\n",
    "data_obj = Data(data=data, washed=True)\n",
    "\n",
    "# 创建一些分析结果\n",
    "results = {\n",
    "    'desc_analysis': AnalysisResult(\n",
    "        id='desc_analysis',\n",
    "        text='描述性统计分析显示变量A的均值为0.1，标准差为1.2'\n",
    "    ),\n",
    "    'corr_analysis': AnalysisResult(\n",
    "        id='corr_analysis',\n",
    "        text='相关性分析显示变量A和B的相关系数为0.3'\n",
    "    )\n",
    "}\n",
    "\n",
    "# 创建一些图片结果\n",
    "pictures = {\n",
    "    'histogram': PictureResult(\n",
    "        title='变量A的直方图',\n",
    "        path='./output/histogram.png',\n",
    "        description='展示了变量A的分布情况'\n",
    "    ),\n",
    "    'scatter': PictureResult(\n",
    "        title='散点图',\n",
    "        path='./output/scatter.png',\n",
    "        description='展示了变量A和B的关系'\n",
    "    )\n",
    "}\n",
    "\n",
    "# 创建完整的AnalysisContext\n",
    "context = AnalysisContext(\n",
    "    data=data_obj,\n",
    "    result=results,\n",
    "    pics=pictures\n",
    ")\n"
   ]
  },
  {
   "cell_type": "code",
   "execution_count": 16,
   "metadata": {},
   "outputs": [
    {
     "data": {
      "text/plain": [
       "AnalysisContext(data=Data(data=None, washed=True), result={'desc_analysis': AnalysisResult(id='desc_analysis', text='描述性统计分析显示变量A的均值为0.1，标准差为1.2'), 'corr_analysis': AnalysisResult(id='corr_analysis', text='相关性分析显示变量A和B的相关系数为0.3')}, pics={'histogram': PictureResult(title='变量A的直方图', path='./output/histogram.png', description='展示了变量A的分布情况'), 'scatter': PictureResult(title='散点图', path='./output/scatter.png', description='展示了变量A和B的关系')})"
      ]
     },
     "execution_count": 16,
     "metadata": {},
     "output_type": "execute_result"
    }
   ],
   "source": [
    "context"
   ]
  },
  {
   "cell_type": "code",
   "execution_count": 22,
   "metadata": {},
   "outputs": [],
   "source": [
    "@function_tool\n",
    "async def extract_data(\n",
    "    context: RunContextWrapper, \n",
    "    path: str\n",
    ") -> str:\n",
    "    try:\n",
    "        # 判断文件类型\n",
    "        file_extension = path.split('.')[-1].lower()\n",
    "        \n",
    "        if file_extension == 'csv':\n",
    "            # 读取CSV文件\n",
    "            # df = pd.read_csv(path)\n",
    "            context.context.data.data = '已获取数据'\n",
    "            return f\"已从{path}提取数据\"\n",
    "            \n",
    "        elif file_extension in ['xlsx', 'xls']:\n",
    "            # 读取Excel文件\n",
    "            df = pd.read_excel(path)\n",
    "            return f\"已从{path}提取数据\"\n",
    "            \n",
    "        else:\n",
    "            return f\"不支持的文件类型: {file_extension}\"\n",
    "            \n",
    "    except Exception as e:\n",
    "        return f\"读取文件时发生错误: {str(e)}\""
   ]
  },
  {
   "cell_type": "code",
   "execution_count": null,
   "metadata": {},
   "outputs": [],
   "source": [
    "agent = "
   ]
  },
  {
   "cell_type": "code",
   "execution_count": 29,
   "metadata": {},
   "outputs": [],
   "source": [
    "result = await Runner.run(starting_agent=agent,input=\"请从./data/data.csv文件中提取数据\")"
   ]
  },
  {
   "cell_type": "code",
   "execution_count": 30,
   "metadata": {},
   "outputs": [
    {
     "data": {
      "text/plain": [
       "[{'content': '请从./data/data.csv文件中提取数据', 'role': 'user'},\n",
       " {'id': '__fake_id__',\n",
       "  'content': [{'annotations': [], 'text': '\\n\\n', 'type': 'output_text'}],\n",
       "  'role': 'assistant',\n",
       "  'status': 'completed',\n",
       "  'type': 'message'},\n",
       " {'arguments': ' {\"data_path\": \"./data/data.csv\"}',\n",
       "  'call_id': '0196c8cee693ac159785c7e1014e108c',\n",
       "  'name': 'extract_data',\n",
       "  'type': 'function_call',\n",
       "  'id': '__fake_id__'},\n",
       " {'call_id': '0196c8cee693ac159785c7e1014e108c',\n",
       "  'output': '{\"type\":\"text\",\"text\":\"已从./data/data.csv提取数据\",\"annotations\":null}',\n",
       "  'type': 'function_call_output'},\n",
       " {'id': '__fake_id__',\n",
       "  'content': [{'annotations': [],\n",
       "    'text': '\\n\\n数据已成功从指定路径 ./data/data.csv 提取。如果需要查看数据内容或进行后续处理，请告诉我具体需求！',\n",
       "    'type': 'output_text'}],\n",
       "  'role': 'assistant',\n",
       "  'status': 'completed',\n",
       "  'type': 'message'}]"
      ]
     },
     "execution_count": 30,
     "metadata": {},
     "output_type": "execute_result"
    }
   ],
   "source": [
    "result.to_input_list()"
   ]
  },
  {
   "cell_type": "markdown",
   "metadata": {},
   "source": [
    "# Output type"
   ]
  },
  {
   "cell_type": "code",
   "execution_count": 106,
   "metadata": {},
   "outputs": [
    {
     "data": {
      "text/plain": [
       "'deepseek-chat'"
      ]
     },
     "execution_count": 106,
     "metadata": {},
     "output_type": "execute_result"
    }
   ],
   "source": [
    "MODEL"
   ]
  },
  {
   "cell_type": "code",
   "execution_count": 72,
   "metadata": {},
   "outputs": [],
   "source": [
    "from pydantic import BaseModel\n",
    "\n",
    "class VariableAnalysis(BaseModel):\n",
    "    \"\"\"\n",
    "    对变量的描述\n",
    "    :param variable_name: 变量名\n",
    "    :param variable_description: 变量描述\n",
    "    \"\"\"\n",
    "    variable_name: str\n",
    "    variable_description: str\n",
    "\n",
    "\n",
    "class Report(BaseModel):\n",
    "    \"\"\"\n",
    "    变量分析报告\n",
    "    :param variable_analysis: 变量分析,属性为列表, 由若干个VariableAnalysis组成\n",
    "    \"\"\"\n",
    "    variable_analysis: list[VariableAnalysis]"
   ]
  },
  {
   "cell_type": "code",
   "execution_count": 115,
   "metadata": {},
   "outputs": [],
   "source": [
    "analysis_agent = Agent(\n",
    "    name=\"Analysis\",\n",
    "    instructions=\"描述数据。Your response should be in the form of JSON with the following schema: {'response': 'your response here'}. Do not include any other text and do not wrap the response in a code block - just provide the raw json output.\",\n",
    "    model=model,\n",
    "    output_type=Report\n",
    ")\n",
    "\n",
    "result = await Runner.run(starting_agent=analysis_agent,input='A=[1,2,3,4,5]和B=[6,7,8,9,10]')"
   ]
  },
  {
   "cell_type": "code",
   "execution_count": 60,
   "metadata": {},
   "outputs": [
    {
     "data": {
      "text/plain": [
       "[VariableAnalysis(variable_name='A', variable_description='提供了一组简单的数据来展示数组.'),\n",
       " VariableAnalysis(variable_name='B', variable_description='提供了一组简单的数据来展示数组.')]"
      ]
     },
     "execution_count": 60,
     "metadata": {},
     "output_type": "execute_result"
    }
   ],
   "source": [
    "result.final_output_as(VariableAnalysis).variable_analysis"
   ]
  },
  {
   "cell_type": "code",
   "execution_count": 33,
   "metadata": {},
   "outputs": [],
   "source": [
    "from __future__ import annotations\n",
    "\n",
    "import asyncio\n",
    "\n",
    "from pydantic import BaseModel\n",
    "\n",
    "from agents import (\n",
    "    Agent,\n",
    "    GuardrailFunctionOutput,\n",
    "    InputGuardrailTripwireTriggered,\n",
    "    RunContextWrapper,\n",
    "    Runner,\n",
    "    TResponseInputItem,\n",
    "    input_guardrail,\n",
    ")\n"
   ]
  },
  {
   "cell_type": "code",
   "execution_count": 34,
   "metadata": {},
   "outputs": [],
   "source": [
    "\n",
    "### 1. An agent-based guardrail that is triggered if the user is asking to do math homework\n",
    "class MathHomeworkOutput(BaseModel):\n",
    "    reasoning: str\n",
    "    is_math_homework: bool\n",
    "\n",
    "\n",
    "guardrail_agent = Agent(\n",
    "    name=\"Guardrail check\",\n",
    "    instructions=\"Check if the user is asking you to do their math homework.\",\n",
    "    output_type=MathHomeworkOutput,\n",
    "    model=model\n",
    ")\n",
    "\n",
    "\n",
    "@input_guardrail\n",
    "async def math_guardrail(\n",
    "    context: RunContextWrapper[None], agent: Agent, input: str | list[TResponseInputItem]\n",
    ") -> GuardrailFunctionOutput:\n",
    "    \"\"\"This is an input guardrail function, which happens to call an agent to check if the input\n",
    "    is a math homework question.\n",
    "    \"\"\"\n",
    "    result = await Runner.run(guardrail_agent, input, context=context.context)\n",
    "    final_output = result.final_output_as(MathHomeworkOutput)\n",
    "\n",
    "    return GuardrailFunctionOutput(\n",
    "        output_info=final_output,\n",
    "        tripwire_triggered=final_output.is_math_homework,\n",
    "    )"
   ]
  },
  {
   "cell_type": "code",
   "execution_count": 35,
   "metadata": {},
   "outputs": [],
   "source": [
    "agent = Agent(\n",
    "    name=\"Customer support agent\",\n",
    "    instructions=\"You are a customer support agent. You help customers with their questions.\",\n",
    "    input_guardrails=[math_guardrail],\n",
    "    model=model\n",
    ")"
   ]
  },
  {
   "cell_type": "code",
   "execution_count": null,
   "metadata": {},
   "outputs": [
    {
     "name": "stdout",
     "output_type": "stream",
     "text": [
      "\n",
      "\n",
      "**1 + 1 = 2**  \n",
      "\n",
      "Is there anything else I can help you with? 😊\n"
     ]
    }
   ],
   "source": [
    "input_data = []\n",
    "user_input = '1+1=?'\n",
    "input_data.append(\n",
    "    {\n",
    "        \"role\": \"user\",\n",
    "        \"content\": user_input,\n",
    "    }\n",
    ")\n",
    "\n",
    "try:\n",
    "    result = await Runner.run(agent, input_data)\n",
    "    print(result.final_output)\n",
    "    # If the guardrail didn't trigger, we use the result as the input for the next run\n",
    "    input_data = result.to_input_list()\n",
    "except InputGuardrailTripwireTriggered:\n",
    "    # If the guardrail triggered, we instead add a refusal message to the input\n",
    "    message = \"Sorry, I can't help you with your math homework.\"\n",
    "    print(message)\n",
    "    input_data.append(\n",
    "        {\n",
    "            \"role\": \"assistant\",\n",
    "            \"content\": message,\n",
    "        }\n",
    "    )\n"
   ]
  },
  {
   "cell_type": "code",
   "execution_count": 46,
   "metadata": {},
   "outputs": [
    {
     "data": {
      "text/plain": [
       "'\\n\\n**1 + 1 = 2**  \\n\\nIs there anything else I can help you with? 😊'"
      ]
     },
     "execution_count": 46,
     "metadata": {},
     "output_type": "execute_result"
    }
   ],
   "source": [
    "result.final_output_as()"
   ]
  }
 ],
 "metadata": {
  "kernelspec": {
   "display_name": "LLM",
   "language": "python",
   "name": "python3"
  },
  "language_info": {
   "codemirror_mode": {
    "name": "ipython",
    "version": 3
   },
   "file_extension": ".py",
   "mimetype": "text/x-python",
   "name": "python",
   "nbconvert_exporter": "python",
   "pygments_lexer": "ipython3",
   "version": "3.12.0"
  }
 },
 "nbformat": 4,
 "nbformat_minor": 2
}
