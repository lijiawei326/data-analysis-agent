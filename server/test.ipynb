{
 "cells": [
  {
   "cell_type": "code",
   "execution_count": 7,
   "metadata": {},
   "outputs": [],
   "source": [
    "import sys\n",
    "import os\n",
    "sys.path.append(os.path.abspath(\"/home/work/disk1/LLM-ljw/agent/analysis-agent\"))"
   ]
  },
  {
   "cell_type": "code",
   "execution_count": 8,
   "metadata": {},
   "outputs": [],
   "source": [
    "import pandas as pd\n",
    "import numpy as np\n",
    "from typing import List, Optional\n",
    "import json\n",
    "from utils.utils import remove_think\n"
   ]
  },
  {
   "cell_type": "code",
   "execution_count": 9,
   "metadata": {},
   "outputs": [],
   "source": [
    "def get_season(month: int) -> str:\n",
    "    return {12: \"Winter\", 1: \"Winter\", 2: \"Winter\",\n",
    "            3: \"Spring\", 4: \"Spring\", 5: \"Spring\",\n",
    "            6: \"Summer\", 7: \"Summer\", 8: \"Summer\",\n",
    "            9: \"Autumn\", 10: \"Autumn\", 11: \"Autumn\"}[month]"
   ]
  },
  {
   "cell_type": "code",
   "execution_count": 10,
   "metadata": {},
   "outputs": [],
   "source": [
    "def get_wind_direction_label(degree: float) -> str:\n",
    "    \"\"\"将风向角度转换为中文名称（严格匹配气象标准，简洁版）\"\"\"\n",
    "    return (\"北\", \"东北\", \"东\", \"东南\", \"南\", \"西南\", \"西\", \"西北\")[\n",
    "        int(((degree % 360) + 22.5) // 45) % 8\n",
    "    ]"
   ]
  },
  {
   "cell_type": "code",
   "execution_count": 11,
   "metadata": {},
   "outputs": [
    {
     "data": {
      "text/html": [
       "<div>\n",
       "<style scoped>\n",
       "    .dataframe tbody tr th:only-of-type {\n",
       "        vertical-align: middle;\n",
       "    }\n",
       "\n",
       "    .dataframe tbody tr th {\n",
       "        vertical-align: top;\n",
       "    }\n",
       "\n",
       "    .dataframe thead th {\n",
       "        text-align: right;\n",
       "    }\n",
       "</style>\n",
       "<table border=\"1\" class=\"dataframe\">\n",
       "  <thead>\n",
       "    <tr style=\"text-align: right;\">\n",
       "      <th></th>\n",
       "      <th>城市</th>\n",
       "      <th>城市编号</th>\n",
       "      <th>区县</th>\n",
       "      <th>区县编号</th>\n",
       "      <th>站点</th>\n",
       "      <th>唯一编码</th>\n",
       "      <th>时间</th>\n",
       "      <th>风速(m/s)</th>\n",
       "      <th>风向(°)</th>\n",
       "      <th>气压(hPa)</th>\n",
       "      <th>气温(℃)</th>\n",
       "      <th>湿度(%)</th>\n",
       "      <th>降水量(mm)</th>\n",
       "    </tr>\n",
       "  </thead>\n",
       "  <tbody>\n",
       "    <tr>\n",
       "      <th>0</th>\n",
       "      <td>鄂尔多斯市</td>\n",
       "      <td>150600</td>\n",
       "      <td>达拉特旗</td>\n",
       "      <td>150621</td>\n",
       "      <td>双骏园林</td>\n",
       "      <td>150621001</td>\n",
       "      <td>2024-01-01</td>\n",
       "      <td>0</td>\n",
       "      <td>0</td>\n",
       "      <td>909.5</td>\n",
       "      <td>-8.2</td>\n",
       "      <td>75</td>\n",
       "      <td>0</td>\n",
       "    </tr>\n",
       "    <tr>\n",
       "      <th>1</th>\n",
       "      <td>鄂尔多斯市</td>\n",
       "      <td>150600</td>\n",
       "      <td>达拉特旗</td>\n",
       "      <td>150621</td>\n",
       "      <td>双骏园林</td>\n",
       "      <td>150621001</td>\n",
       "      <td>2024-01-02</td>\n",
       "      <td>0</td>\n",
       "      <td>0</td>\n",
       "      <td>910.2</td>\n",
       "      <td>-7.2</td>\n",
       "      <td>69</td>\n",
       "      <td>0</td>\n",
       "    </tr>\n",
       "    <tr>\n",
       "      <th>2</th>\n",
       "      <td>鄂尔多斯市</td>\n",
       "      <td>150600</td>\n",
       "      <td>达拉特旗</td>\n",
       "      <td>150621</td>\n",
       "      <td>双骏园林</td>\n",
       "      <td>150621001</td>\n",
       "      <td>2024-01-03</td>\n",
       "      <td>0.2</td>\n",
       "      <td>0</td>\n",
       "      <td>905.9</td>\n",
       "      <td>-7.8</td>\n",
       "      <td>69</td>\n",
       "      <td>0</td>\n",
       "    </tr>\n",
       "    <tr>\n",
       "      <th>3</th>\n",
       "      <td>鄂尔多斯市</td>\n",
       "      <td>150600</td>\n",
       "      <td>达拉特旗</td>\n",
       "      <td>150621</td>\n",
       "      <td>双骏园林</td>\n",
       "      <td>150621001</td>\n",
       "      <td>2024-01-04</td>\n",
       "      <td>0</td>\n",
       "      <td>0</td>\n",
       "      <td>904.3</td>\n",
       "      <td>-6.5</td>\n",
       "      <td>63</td>\n",
       "      <td>0</td>\n",
       "    </tr>\n",
       "    <tr>\n",
       "      <th>4</th>\n",
       "      <td>鄂尔多斯市</td>\n",
       "      <td>150600</td>\n",
       "      <td>达拉特旗</td>\n",
       "      <td>150621</td>\n",
       "      <td>双骏园林</td>\n",
       "      <td>150621001</td>\n",
       "      <td>2024-01-05</td>\n",
       "      <td>0.1</td>\n",
       "      <td>0</td>\n",
       "      <td>908.2</td>\n",
       "      <td>-7.3</td>\n",
       "      <td>54</td>\n",
       "      <td>0</td>\n",
       "    </tr>\n",
       "    <tr>\n",
       "      <th>...</th>\n",
       "      <td>...</td>\n",
       "      <td>...</td>\n",
       "      <td>...</td>\n",
       "      <td>...</td>\n",
       "      <td>...</td>\n",
       "      <td>...</td>\n",
       "      <td>...</td>\n",
       "      <td>...</td>\n",
       "      <td>...</td>\n",
       "      <td>...</td>\n",
       "      <td>...</td>\n",
       "      <td>...</td>\n",
       "      <td>...</td>\n",
       "    </tr>\n",
       "    <tr>\n",
       "      <th>5485</th>\n",
       "      <td>鄂尔多斯市</td>\n",
       "      <td>150600</td>\n",
       "      <td>准格尔旗</td>\n",
       "      <td>150622</td>\n",
       "      <td>气象局</td>\n",
       "      <td>150622002</td>\n",
       "      <td>2024-12-27</td>\n",
       "      <td>2.1</td>\n",
       "      <td>150.2</td>\n",
       "      <td>892</td>\n",
       "      <td>-10.8</td>\n",
       "      <td>46</td>\n",
       "      <td>—</td>\n",
       "    </tr>\n",
       "    <tr>\n",
       "      <th>5486</th>\n",
       "      <td>鄂尔多斯市</td>\n",
       "      <td>150600</td>\n",
       "      <td>准格尔旗</td>\n",
       "      <td>150622</td>\n",
       "      <td>气象局</td>\n",
       "      <td>150622002</td>\n",
       "      <td>2024-12-28</td>\n",
       "      <td>0.2</td>\n",
       "      <td>83.5</td>\n",
       "      <td>885.3</td>\n",
       "      <td>-8.9</td>\n",
       "      <td>44</td>\n",
       "      <td>—</td>\n",
       "    </tr>\n",
       "    <tr>\n",
       "      <th>5487</th>\n",
       "      <td>鄂尔多斯市</td>\n",
       "      <td>150600</td>\n",
       "      <td>准格尔旗</td>\n",
       "      <td>150622</td>\n",
       "      <td>气象局</td>\n",
       "      <td>150622002</td>\n",
       "      <td>2024-12-29</td>\n",
       "      <td>0.4</td>\n",
       "      <td>94.6</td>\n",
       "      <td>878.9</td>\n",
       "      <td>-5.7</td>\n",
       "      <td>42</td>\n",
       "      <td>—</td>\n",
       "    </tr>\n",
       "    <tr>\n",
       "      <th>5488</th>\n",
       "      <td>鄂尔多斯市</td>\n",
       "      <td>150600</td>\n",
       "      <td>准格尔旗</td>\n",
       "      <td>150622</td>\n",
       "      <td>气象局</td>\n",
       "      <td>150622002</td>\n",
       "      <td>2024-12-30</td>\n",
       "      <td>0.7</td>\n",
       "      <td>152.7</td>\n",
       "      <td>882.1</td>\n",
       "      <td>-6.2</td>\n",
       "      <td>39</td>\n",
       "      <td>—</td>\n",
       "    </tr>\n",
       "    <tr>\n",
       "      <th>5489</th>\n",
       "      <td>鄂尔多斯市</td>\n",
       "      <td>150600</td>\n",
       "      <td>准格尔旗</td>\n",
       "      <td>150622</td>\n",
       "      <td>气象局</td>\n",
       "      <td>150622002</td>\n",
       "      <td>2024-12-31</td>\n",
       "      <td>0.1</td>\n",
       "      <td>95.8</td>\n",
       "      <td>878.4</td>\n",
       "      <td>-5.1</td>\n",
       "      <td>43</td>\n",
       "      <td>—</td>\n",
       "    </tr>\n",
       "  </tbody>\n",
       "</table>\n",
       "<p>5490 rows × 13 columns</p>\n",
       "</div>"
      ],
      "text/plain": [
       "         城市    城市编号    区县    区县编号    站点       唯一编码          时间 风速(m/s)  风向(°)  \\\n",
       "0     鄂尔多斯市  150600  达拉特旗  150621  双骏园林  150621001  2024-01-01       0      0   \n",
       "1     鄂尔多斯市  150600  达拉特旗  150621  双骏园林  150621001  2024-01-02       0      0   \n",
       "2     鄂尔多斯市  150600  达拉特旗  150621  双骏园林  150621001  2024-01-03     0.2      0   \n",
       "3     鄂尔多斯市  150600  达拉特旗  150621  双骏园林  150621001  2024-01-04       0      0   \n",
       "4     鄂尔多斯市  150600  达拉特旗  150621  双骏园林  150621001  2024-01-05     0.1      0   \n",
       "...     ...     ...   ...     ...   ...        ...         ...     ...    ...   \n",
       "5485  鄂尔多斯市  150600  准格尔旗  150622   气象局  150622002  2024-12-27     2.1  150.2   \n",
       "5486  鄂尔多斯市  150600  准格尔旗  150622   气象局  150622002  2024-12-28     0.2   83.5   \n",
       "5487  鄂尔多斯市  150600  准格尔旗  150622   气象局  150622002  2024-12-29     0.4   94.6   \n",
       "5488  鄂尔多斯市  150600  准格尔旗  150622   气象局  150622002  2024-12-30     0.7  152.7   \n",
       "5489  鄂尔多斯市  150600  准格尔旗  150622   气象局  150622002  2024-12-31     0.1   95.8   \n",
       "\n",
       "     气压(hPa) 气温(℃) 湿度(%) 降水量(mm)  \n",
       "0      909.5  -8.2    75       0  \n",
       "1      910.2  -7.2    69       0  \n",
       "2      905.9  -7.8    69       0  \n",
       "3      904.3  -6.5    63       0  \n",
       "4      908.2  -7.3    54       0  \n",
       "...      ...   ...   ...     ...  \n",
       "5485     892 -10.8    46       —  \n",
       "5486   885.3  -8.9    44       —  \n",
       "5487   878.9  -5.7    42       —  \n",
       "5488   882.1  -6.2    39       —  \n",
       "5489   878.4  -5.1    43       —  \n",
       "\n",
       "[5490 rows x 13 columns]"
      ]
     },
     "execution_count": 11,
     "metadata": {},
     "output_type": "execute_result"
    }
   ],
   "source": [
    "df = pd.read_excel(\"../data/test.xlsx\")\n",
    "df"
   ]
  },
  {
   "cell_type": "code",
   "execution_count": 12,
   "metadata": {},
   "outputs": [],
   "source": [
    "from model_provider.model_provider import MODEL_PROVIDER"
   ]
  },
  {
   "cell_type": "code",
   "execution_count": 13,
   "metadata": {},
   "outputs": [],
   "source": [
    "from agents import Agent, Runner\n",
    "from typing import Dict\n",
    "\n",
    "async def get_column_mapping(df: pd.DataFrame, user_keys: List[str]) -> Dict[str, Optional[str]]:\n",
    "    \"\"\"\n",
    "    将用户提供的变量名（如'风速'）映射到df中的真实列名（如'风速(m/s)'）\n",
    "    \"\"\"\n",
    "    column_mapping_agent = Agent(\n",
    "        name=\"列名映射agent\",\n",
    "        instructions=\"\"\"\n",
    "        请根据下列 DataFrame 列名，判断哪些列名最接近用户提供的变量意图。\n",
    "        示例：\n",
    "        【DataFrame列名】:\n",
    "        [\"风速(m/s)\", \"风向(16方位)\", \"PM2.5浓度\"]\n",
    "\n",
    "        【用户意图】:\n",
    "        [\"风速\", \"风向\", \"PM2.5\", \"季节\"]\n",
    "\n",
    "        请输出一个JSON对象，表示用户列名与真实列名的映射关系，如：\n",
    "        {\n",
    "        \"风速\": \"风速(m/s)\",\n",
    "        \"风向\": \"风向(16方位)\",\n",
    "        \"PM2.5\": \"PM2.5浓度\",\n",
    "        \"季节\": None\n",
    "        }\n",
    "        请严格遵守以下规则：\n",
    "        1. 请直接输出JSON对象，不要输出任何其他内容。\n",
    "        2. 如果存在任何一个列名你认为无法匹配，请设置为None。\n",
    "        \"\"\",\n",
    "        model=MODEL_PROVIDER.get_model('qwen3:1.7b')\n",
    "    )\n",
    "    input = f'DataFrame列名：{df.columns.tolist()}\\n用户意图：{user_keys}'\n",
    "    column_map_result = await Runner.run(\n",
    "        starting_agent=column_mapping_agent,\n",
    "        input=input\n",
    "    )\n",
    "\n",
    "    return column_map_result"
   ]
  },
  {
   "cell_type": "code",
   "execution_count": null,
   "metadata": {},
   "outputs": [
    {
     "name": "stdout",
     "output_type": "stream",
     "text": [
      "read_timeout_seconds: 0:03:00\n"
     ]
    },
    {
     "name": "stderr",
     "output_type": "stream",
     "text": [
      "Error in sse_reader: peer closed connection without sending complete message body (incomplete chunked read)\n"
     ]
    }
   ],
   "source": [
    "from agents import Agent\n",
    "from agents.mcp.server import MCPServerSse,MCPServerSseParams\n",
    "\n",
    "mcp_param = MCPServerSseParams(\n",
    "    url='http://127.0.0.1:8000/sse'\n",
    ")\n",
    "mcp = MCPServerSse(\n",
    "    name='corr',\n",
    "    params=mcp_param,\n",
    "    client_session_timeout_seconds=180\n",
    ")\n",
    "await mcp.connect()"
   ]
  },
  {
   "cell_type": "code",
   "execution_count": 59,
   "metadata": {},
   "outputs": [],
   "source": [
    "from agents.agent import ToolsToFinalOutputFunction, ToolsToFinalOutputResult\n",
    "from agents import RunContextWrapper\n",
    "async def async_stop_if_markdown_present(context: RunContextWrapper, tool_results):\n",
    "    print(tool_results)\n",
    "    for result in tool_results:\n",
    "        if isinstance(result, dict) and \"markdown\" in result:\n",
    "            return ToolsToFinalOutputResult(\n",
    "                is_final_output=True,\n",
    "                final_output=result['markdown']\n",
    "            )\n",
    "    return ToolsToFinalOutputResult(\n",
    "        is_final_output=False,\n",
    "        final_output=None\n",
    "    )"
   ]
  },
  {
   "cell_type": "code",
   "execution_count": 60,
   "metadata": {},
   "outputs": [],
   "source": [
    "from model_provider.model_provider import MODEL_PROVIDER\n",
    "from agents import Runner\n",
    "from agents.agent import StopAtTools\n",
    "agent = Agent(\n",
    "    name='asistant',\n",
    "    instructions='你是一个乐于助人的助手。语言：简体中文',\n",
    "    model=MODEL_PROVIDER.get_model(None),\n",
    "    mcp_servers=[mcp],\n",
    "    tool_use_behavior=StopAtTools(stop_at_tool_names=['correlation_analysis'])\n",
    ")"
   ]
  },
  {
   "cell_type": "code",
   "execution_count": 61,
   "metadata": {},
   "outputs": [],
   "source": [
    "res = await Runner.run(\n",
    "    starting_agent=agent,\n",
    "    input='对./data/corr.csv计算[纳日松]站点的不同季节不同风向方位（不是角度）下的臭氧浓度和风速的相关性',\n",
    ")"
   ]
  },
  {
   "cell_type": "code",
   "execution_count": 62,
   "metadata": {},
   "outputs": [
    {
     "data": {
      "text/plain": [
       "[{'content': '对./data/corr.csv计算[纳日松]站点的不同季节不同风向方位（不是角度）下的臭氧浓度和风速的相关性',\n",
       "  'role': 'user'},\n",
       " {'arguments': '{\"correlation_vars\":[\"臭氧浓度\",\"风速\"],\"filters\":{\"站点\":\"纳日松\"},\"group_by\":[\"季节\",\"风向方位\"],\"read_data_param\":{\"read_data_method\":\"PANDAS\",\"read_data_query\":\"./data/corr.csv\"}}',\n",
       "  'call_id': 'call_ic1nqgso',\n",
       "  'name': 'correlation_analysis',\n",
       "  'type': 'function_call',\n",
       "  'id': '__fake_id__'},\n",
       " {'call_id': 'call_ic1nqgso',\n",
       "  'output': '{\"type\":\"text\",\"text\":\"{\\\\n  \\\\\"result\\\\\": {\\\\n    \\\\\"冬 - 东\\\\\": 0.473,\\\\n    \\\\\"冬 - 东北\\\\\": 0.096,\\\\n    \\\\\"冬 - 东南\\\\\": -0.54,\\\\n    \\\\\"冬 - 北\\\\\": 0.497,\\\\n    \\\\\"冬 - 南\\\\\": -100,\\\\n    \\\\\"冬 - 西\\\\\": 0.657,\\\\n    \\\\\"冬 - 西北\\\\\": 0.597,\\\\n    \\\\\"冬 - 西南\\\\\": -100,\\\\n    \\\\\"夏 - 东\\\\\": -0.559,\\\\n    \\\\\"夏 - 东北\\\\\": -0.461,\\\\n    \\\\\"夏 - 东南\\\\\": -0.249,\\\\n    \\\\\"夏 - 北\\\\\": 0.357,\\\\n    \\\\\"夏 - 南\\\\\": -0.599,\\\\n    \\\\\"夏 - 西\\\\\": -0.523,\\\\n    \\\\\"夏 - 西北\\\\\": -0.397,\\\\n    \\\\\"夏 - 西南\\\\\": -0.434,\\\\n    \\\\\"春 - 东\\\\\": -0.095,\\\\n    \\\\\"春 - 东北\\\\\": -0.225,\\\\n    \\\\\"春 - 东南\\\\\": -0.999,\\\\n    \\\\\"春 - 北\\\\\": 0.141,\\\\n    \\\\\"春 - 南\\\\\": -100,\\\\n    \\\\\"春 - 西\\\\\": 0.565,\\\\n    \\\\\"春 - 西北\\\\\": 0.451,\\\\n    \\\\\"秋 - 东\\\\\": 0.299,\\\\n    \\\\\"秋 - 东北\\\\\": 0.668,\\\\n    \\\\\"秋 - 东南\\\\\": 0.596,\\\\n    \\\\\"秋 - 北\\\\\": 0.542,\\\\n    \\\\\"秋 - 南\\\\\": -100,\\\\n    \\\\\"秋 - 西\\\\\": 0.421,\\\\n    \\\\\"秋 - 西北\\\\\": -0.003\\\\n  },\\\\n  \\\\\"markdown\\\\\": \\\\\"| 分组 | 相关性 |\\\\\\\\n|---|---|\\\\\\\\n| 冬 - 东 | 0.473 |\\\\\\\\n| 冬 - 东北 | 0.096 |\\\\\\\\n| 冬 - 东南 | -0.54 |\\\\\\\\n| 冬 - 北 | 0.497 |\\\\\\\\n| 冬 - 南 | 数据不足 |\\\\\\\\n| 冬 - 西 | 0.657 |\\\\\\\\n| 冬 - 西北 | 0.597 |\\\\\\\\n| 冬 - 西南 | 数据不足 |\\\\\\\\n| 夏 - 东 | -0.559 |\\\\\\\\n| 夏 - 东北 | -0.461 |\\\\\\\\n| 夏 - 东南 | -0.249 |\\\\\\\\n| 夏 - 北 | 0.357 |\\\\\\\\n| 夏 - 南 | -0.599 |\\\\\\\\n| 夏 - 西 | -0.523 |\\\\\\\\n| 夏 - 西北 | -0.397 |\\\\\\\\n| 夏 - 西南 | -0.434 |\\\\\\\\n| 春 - 东 | -0.095 |\\\\\\\\n| 春 - 东北 | -0.225 |\\\\\\\\n| 春 - 东南 | -0.999 |\\\\\\\\n| 春 - 北 | 0.141 |\\\\\\\\n| 春 - 南 | 数据不足 |\\\\\\\\n| 春 - 西 | 0.565 |\\\\\\\\n| 春 - 西北 | 0.451 |\\\\\\\\n| 秋 - 东 | 0.299 |\\\\\\\\n| 秋 - 东北 | 0.668 |\\\\\\\\n| 秋 - 东南 | 0.596 |\\\\\\\\n| 秋 - 北 | 0.542 |\\\\\\\\n| 秋 - 南 | 数据不足 |\\\\\\\\n| 秋 - 西 | 0.421 |\\\\\\\\n| 秋 - 西北 | -0.003 |\\\\\\\\n\\\\\"\\\\n}\",\"annotations\":null}',\n",
       "  'type': 'function_call_output'}]"
      ]
     },
     "execution_count": 62,
     "metadata": {},
     "output_type": "execute_result"
    }
   ],
   "source": [
    "res.to_input_list()"
   ]
  },
  {
   "cell_type": "code",
   "execution_count": 63,
   "metadata": {},
   "outputs": [
    {
     "data": {
      "text/markdown": [
       "| 分组 | 相关性 |\n",
       "|---|---|\n",
       "| 冬 - 东 | 0.473 |\n",
       "| 冬 - 东北 | 0.096 |\n",
       "| 冬 - 东南 | -0.54 |\n",
       "| 冬 - 北 | 0.497 |\n",
       "| 冬 - 南 | 数据不足 |\n",
       "| 冬 - 西 | 0.657 |\n",
       "| 冬 - 西北 | 0.597 |\n",
       "| 冬 - 西南 | 数据不足 |\n",
       "| 夏 - 东 | -0.559 |\n",
       "| 夏 - 东北 | -0.461 |\n",
       "| 夏 - 东南 | -0.249 |\n",
       "| 夏 - 北 | 0.357 |\n",
       "| 夏 - 南 | -0.599 |\n",
       "| 夏 - 西 | -0.523 |\n",
       "| 夏 - 西北 | -0.397 |\n",
       "| 夏 - 西南 | -0.434 |\n",
       "| 春 - 东 | -0.095 |\n",
       "| 春 - 东北 | -0.225 |\n",
       "| 春 - 东南 | -0.999 |\n",
       "| 春 - 北 | 0.141 |\n",
       "| 春 - 南 | 数据不足 |\n",
       "| 春 - 西 | 0.565 |\n",
       "| 春 - 西北 | 0.451 |\n",
       "| 秋 - 东 | 0.299 |\n",
       "| 秋 - 东北 | 0.668 |\n",
       "| 秋 - 东南 | 0.596 |\n",
       "| 秋 - 北 | 0.542 |\n",
       "| 秋 - 南 | 数据不足 |\n",
       "| 秋 - 西 | 0.421 |\n",
       "| 秋 - 西北 | -0.003 |\n"
      ],
      "text/plain": [
       "<IPython.core.display.Markdown object>"
      ]
     },
     "metadata": {},
     "output_type": "display_data"
    }
   ],
   "source": [
    "from IPython.display import display, Code, Markdown\n",
    "display(Markdown(json.loads(json.loads(res.final_output)['text'])['markdown']))"
   ]
  },
  {
   "cell_type": "code",
   "execution_count": 145,
   "metadata": {},
   "outputs": [
    {
     "data": {
      "text/plain": [
       "0       2024-01-01\n",
       "1       2024-01-01\n",
       "2       2024-01-01\n",
       "3       2024-01-01\n",
       "4       2024-01-01\n",
       "           ...    \n",
       "10749   2024-12-31\n",
       "10750   2024-12-31\n",
       "10751   2024-12-31\n",
       "10752   2024-12-31\n",
       "10753   2024-12-31\n",
       "Name: time, Length: 10754, dtype: datetime64[ns]"
      ]
     },
     "execution_count": 145,
     "metadata": {},
     "output_type": "execute_result"
    }
   ],
   "source": [
    "import pandas as pd\n",
    "tt = pd.read_csv('/home/work/disk1/LLM-ljw/agent/analysis-agent/data/corr.csv',parse_dates=['time'])\n",
    "tt['time']"
   ]
  },
  {
   "cell_type": "code",
   "execution_count": 163,
   "metadata": {},
   "outputs": [],
   "source": [
    "tt = tt[tt['站点名称'] == '纳日松']"
   ]
  },
  {
   "cell_type": "code",
   "execution_count": 164,
   "metadata": {},
   "outputs": [
    {
     "data": {
      "text/plain": [
       "Index(['time', '站点名称', 'O3_8H', '气温(℃)', '风速(m/s)', '风向(°)', 'SO2', 'NO2',\n",
       "       'PM10', 'CO', 'PM2.5', 'season', 'wind_direction'],\n",
       "      dtype='object')"
      ]
     },
     "execution_count": 164,
     "metadata": {},
     "output_type": "execute_result"
    }
   ],
   "source": [
    "tt.columns"
   ]
  },
  {
   "cell_type": "code",
   "execution_count": 165,
   "metadata": {},
   "outputs": [
    {
     "name": "stderr",
     "output_type": "stream",
     "text": [
      "/tmp/ipykernel_537143/2181503513.py:1: SettingWithCopyWarning: \n",
      "A value is trying to be set on a copy of a slice from a DataFrame.\n",
      "Try using .loc[row_indexer,col_indexer] = value instead\n",
      "\n",
      "See the caveats in the documentation: https://pandas.pydata.org/pandas-docs/stable/user_guide/indexing.html#returning-a-view-versus-a-copy\n",
      "  tt['season'] = tt['time'].dt.month.map(get_season)\n",
      "/tmp/ipykernel_537143/2181503513.py:2: SettingWithCopyWarning: \n",
      "A value is trying to be set on a copy of a slice from a DataFrame.\n",
      "Try using .loc[row_indexer,col_indexer] = value instead\n",
      "\n",
      "See the caveats in the documentation: https://pandas.pydata.org/pandas-docs/stable/user_guide/indexing.html#returning-a-view-versus-a-copy\n",
      "  tt['wind_direction'] = tt['风向(°)'].apply(get_wind_direction_label)\n"
     ]
    }
   ],
   "source": [
    "tt['season'] = tt['time'].dt.month.map(get_season)\n",
    "tt['wind_direction'] = tt['风向(°)'].apply(get_wind_direction_label)"
   ]
  },
  {
   "cell_type": "code",
   "execution_count": 166,
   "metadata": {},
   "outputs": [],
   "source": [
    "g = tt.groupby(['season','wind_direction'])"
   ]
  },
  {
   "cell_type": "code",
   "execution_count": 167,
   "metadata": {},
   "outputs": [],
   "source": [
    "sub = g[['O3_8H','风速(m/s)']]"
   ]
  },
  {
   "cell_type": "code",
   "execution_count": 168,
   "metadata": {},
   "outputs": [],
   "source": [
    "grouped = tt.groupby(['season','wind_direction'])\n",
    "var1 = 'O3_8H'\n",
    "var2 = '风速(m/s)'\n",
    "result = {}\n",
    "for keys, group in grouped:\n",
    "    sub = group[[var1, var2]].dropna()\n",
    "    key_str = \" | \".join(str(k) for k in keys) if isinstance(keys, tuple) else str(keys)\n",
    "    if sub.shape[0] < 3:\n",
    "        corr = -100\n",
    "        result[key_str] = corr\n",
    "    else:\n",
    "        corr = sub[var1].corr(sub[var2])\n",
    "        result[key_str] = corr"
   ]
  },
  {
   "cell_type": "code",
   "execution_count": 169,
   "metadata": {},
   "outputs": [
    {
     "data": {
      "text/plain": [
       "{'Autumn | 东': 0.29944683692745494,\n",
       " 'Autumn | 东北': 0.6678641128818839,\n",
       " 'Autumn | 东南': 0.5960812289978803,\n",
       " 'Autumn | 北': 0.5420985524564963,\n",
       " 'Autumn | 南': -100,\n",
       " 'Autumn | 西': 0.4206467933361614,\n",
       " 'Autumn | 西北': -0.0032086849347231963,\n",
       " 'Spring | 东': -0.09537936202206765,\n",
       " 'Spring | 东北': -0.2254869352625949,\n",
       " 'Spring | 东南': -0.9989400229922533,\n",
       " 'Spring | 北': 0.14111818158906386,\n",
       " 'Spring | 南': -100,\n",
       " 'Spring | 西': 0.5651595452693585,\n",
       " 'Spring | 西北': 0.4513850668355761,\n",
       " 'Summer | 东': -0.5586814731036658,\n",
       " 'Summer | 东北': -0.46066523675557797,\n",
       " 'Summer | 东南': -0.248762631000327,\n",
       " 'Summer | 北': 0.3569839681011098,\n",
       " 'Summer | 南': -0.5991770741594884,\n",
       " 'Summer | 西': -0.522570348896076,\n",
       " 'Summer | 西北': -0.39699987493325833,\n",
       " 'Summer | 西南': -0.4344989263168032,\n",
       " 'Winter | 东': 0.4729844478671217,\n",
       " 'Winter | 东北': 0.09562507962407665,\n",
       " 'Winter | 东南': -0.5400663288733786,\n",
       " 'Winter | 北': 0.49677957769177533,\n",
       " 'Winter | 南': -100,\n",
       " 'Winter | 西': 0.6565488767470031,\n",
       " 'Winter | 西北': 0.5972440955144499,\n",
       " 'Winter | 西南': -100}"
      ]
     },
     "execution_count": 169,
     "metadata": {},
     "output_type": "execute_result"
    }
   ],
   "source": [
    "result"
   ]
  },
  {
   "cell_type": "code",
   "execution_count": 157,
   "metadata": {},
   "outputs": [
    {
     "ename": "IndexError",
     "evalue": "Column(s) ['O3_8H', '风速(m/s)'] already selected",
     "output_type": "error",
     "traceback": [
      "\u001b[0;31m---------------------------------------------------------------------------\u001b[0m",
      "\u001b[0;31mIndexError\u001b[0m                                Traceback (most recent call last)",
      "Cell \u001b[0;32mIn[157], line 1\u001b[0m\n\u001b[0;32m----> 1\u001b[0m \u001b[43msub\u001b[49m\u001b[43m[\u001b[49m\u001b[38;5;124;43m'\u001b[39;49m\u001b[38;5;124;43mO3_8H\u001b[39;49m\u001b[38;5;124;43m'\u001b[39;49m\u001b[43m]\u001b[49m\u001b[38;5;241m.\u001b[39mcorr(sub[\u001b[38;5;124m'\u001b[39m\u001b[38;5;124m风速(m/s)\u001b[39m\u001b[38;5;124m'\u001b[39m])\n",
      "File \u001b[0;32m~/anaconda3/envs/LLM/lib/python3.12/site-packages/pandas/core/groupby/generic.py:1951\u001b[0m, in \u001b[0;36mDataFrameGroupBy.__getitem__\u001b[0;34m(self, key)\u001b[0m\n\u001b[1;32m   1944\u001b[0m \u001b[38;5;28;01mif\u001b[39;00m \u001b[38;5;28misinstance\u001b[39m(key, \u001b[38;5;28mtuple\u001b[39m) \u001b[38;5;129;01mand\u001b[39;00m \u001b[38;5;28mlen\u001b[39m(key) \u001b[38;5;241m>\u001b[39m \u001b[38;5;241m1\u001b[39m:\n\u001b[1;32m   1945\u001b[0m     \u001b[38;5;66;03m# if len == 1, then it becomes a SeriesGroupBy and this is actually\u001b[39;00m\n\u001b[1;32m   1946\u001b[0m     \u001b[38;5;66;03m# valid syntax, so don't raise\u001b[39;00m\n\u001b[1;32m   1947\u001b[0m     \u001b[38;5;28;01mraise\u001b[39;00m \u001b[38;5;167;01mValueError\u001b[39;00m(\n\u001b[1;32m   1948\u001b[0m         \u001b[38;5;124m\"\u001b[39m\u001b[38;5;124mCannot subset columns with a tuple with more than one element. \u001b[39m\u001b[38;5;124m\"\u001b[39m\n\u001b[1;32m   1949\u001b[0m         \u001b[38;5;124m\"\u001b[39m\u001b[38;5;124mUse a list instead.\u001b[39m\u001b[38;5;124m\"\u001b[39m\n\u001b[1;32m   1950\u001b[0m     )\n\u001b[0;32m-> 1951\u001b[0m \u001b[38;5;28;01mreturn\u001b[39;00m \u001b[38;5;28;43msuper\u001b[39;49m\u001b[43m(\u001b[49m\u001b[43m)\u001b[49m\u001b[38;5;241;43m.\u001b[39;49m\u001b[38;5;21;43m__getitem__\u001b[39;49m\u001b[43m(\u001b[49m\u001b[43mkey\u001b[49m\u001b[43m)\u001b[49m\n",
      "File \u001b[0;32m~/anaconda3/envs/LLM/lib/python3.12/site-packages/pandas/core/base.py:234\u001b[0m, in \u001b[0;36mSelectionMixin.__getitem__\u001b[0;34m(self, key)\u001b[0m\n\u001b[1;32m    232\u001b[0m \u001b[38;5;28;01mdef\u001b[39;00m \u001b[38;5;21m__getitem__\u001b[39m(\u001b[38;5;28mself\u001b[39m, key):\n\u001b[1;32m    233\u001b[0m     \u001b[38;5;28;01mif\u001b[39;00m \u001b[38;5;28mself\u001b[39m\u001b[38;5;241m.\u001b[39m_selection \u001b[38;5;129;01mis\u001b[39;00m \u001b[38;5;129;01mnot\u001b[39;00m \u001b[38;5;28;01mNone\u001b[39;00m:\n\u001b[0;32m--> 234\u001b[0m         \u001b[38;5;28;01mraise\u001b[39;00m \u001b[38;5;167;01mIndexError\u001b[39;00m(\u001b[38;5;124mf\u001b[39m\u001b[38;5;124m\"\u001b[39m\u001b[38;5;124mColumn(s) \u001b[39m\u001b[38;5;132;01m{\u001b[39;00m\u001b[38;5;28mself\u001b[39m\u001b[38;5;241m.\u001b[39m_selection\u001b[38;5;132;01m}\u001b[39;00m\u001b[38;5;124m already selected\u001b[39m\u001b[38;5;124m\"\u001b[39m)\n\u001b[1;32m    236\u001b[0m     \u001b[38;5;28;01mif\u001b[39;00m \u001b[38;5;28misinstance\u001b[39m(key, (\u001b[38;5;28mlist\u001b[39m, \u001b[38;5;28mtuple\u001b[39m, ABCSeries, ABCIndex, np\u001b[38;5;241m.\u001b[39mndarray)):\n\u001b[1;32m    237\u001b[0m         \u001b[38;5;28;01mif\u001b[39;00m \u001b[38;5;28mlen\u001b[39m(\u001b[38;5;28mself\u001b[39m\u001b[38;5;241m.\u001b[39mobj\u001b[38;5;241m.\u001b[39mcolumns\u001b[38;5;241m.\u001b[39mintersection(key)) \u001b[38;5;241m!=\u001b[39m \u001b[38;5;28mlen\u001b[39m(\u001b[38;5;28mset\u001b[39m(key)):\n",
      "\u001b[0;31mIndexError\u001b[0m: Column(s) ['O3_8H', '风速(m/s)'] already selected"
     ]
    }
   ],
   "source": [
    "sub['O3_8H'].corr(sub['风速(m/s)'])"
   ]
  }
 ],
 "metadata": {
  "kernelspec": {
   "display_name": "LLM",
   "language": "python",
   "name": "python3"
  },
  "language_info": {
   "codemirror_mode": {
    "name": "ipython",
    "version": 3
   },
   "file_extension": ".py",
   "mimetype": "text/x-python",
   "name": "python",
   "nbconvert_exporter": "python",
   "pygments_lexer": "ipython3",
   "version": "3.12.0"
  }
 },
 "nbformat": 4,
 "nbformat_minor": 2
}
