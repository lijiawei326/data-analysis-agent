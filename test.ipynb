{
 "cells": [
  {
   "cell_type": "code",
   "execution_count": 7,
   "metadata": {},
   "outputs": [],
   "source": [
    "from dotenv import load_dotenv\n",
    "load_dotenv(override=True)\n",
    "import os\n",
    "\n",
    "from openai import AsyncOpenAI\n",
    "from agents import OpenAIChatCompletionsModel, set_tracing_disabled\n",
    "set_tracing_disabled(True)"
   ]
  },
  {
   "cell_type": "code",
   "execution_count": 8,
   "metadata": {},
   "outputs": [],
   "source": [
    "# 定义模型\n",
    "BASE_URL = os.getenv(\"BASE_URL\")\n",
    "API_KEY = os.getenv(\"API_KEY\")\n",
    "MODEL = os.getenv(\"MODEL\")\n",
    "\n",
    "client = AsyncOpenAI(\n",
    "    base_url=BASE_URL,\n",
    "    api_key=API_KEY\n",
    ")\n",
    "\n",
    "model = OpenAIChatCompletionsModel(\n",
    "    openai_client=client,\n",
    "    model=MODEL,\n",
    ")"
   ]
  },
  {
   "cell_type": "code",
   "execution_count": 9,
   "metadata": {},
   "outputs": [],
   "source": [
    "from pydantic import BaseModel\n",
    "\n",
    "from agents import Agent\n",
    "\n",
    "PROMPT = (\n",
    "    \"You are a helpful research assistant. Given a query, come up with a set of web searches \"\n",
    "    \"to perform to best answer the query. Output between 5 and 20 terms to query for.\"\n",
    "    \"Your response should be in the form of JSON with the following schema: [{'reason': 'Your reasoning for why this search is important to the query.', 'query': 'The search term to use for the web search.'}]. Do not include any other text and do not wrap the response in a code block - just provide the raw json output.\"\n",
    ")\n",
    "\n",
    "\n",
    "class WebSearchItem(BaseModel):\n",
    "    reason: str\n",
    "    \"Your reasoning for why this search is important to the query.\"\n",
    "\n",
    "    query: str\n",
    "    \"The search term to use for the web search.\"\n",
    "\n",
    "\n",
    "class WebSearchPlan(BaseModel):\n",
    "    searches: list[WebSearchItem]\n",
    "    \"\"\"A list of web searches to perform to best answer the query.\"\"\"\n",
    "\n",
    "\n",
    "planner_agent = Agent(\n",
    "    name=\"PlannerAgent\",\n",
    "    instructions=PROMPT,\n",
    "    model=model,\n",
    "    output_type=WebSearchPlan,\n",
    ")\n"
   ]
  },
  {
   "cell_type": "code",
   "execution_count": 12,
   "metadata": {},
   "outputs": [],
   "source": [
    "from agents import Runner\n",
    "query = \"机器学习\"\n",
    "result = await Runner.run(\n",
    "    planner_agent,\n",
    "    f\"Query: {query}\",\n",
    ")\n"
   ]
  },
  {
   "cell_type": "code",
   "execution_count": 21,
   "metadata": {},
   "outputs": [],
   "source": [
    "async def _plan_searches(query: str) -> WebSearchPlan:\n",
    "    print(\"planning\", \"Planning searches...\")\n",
    "    result = await Runner.run(\n",
    "        planner_agent,\n",
    "        f\"Query: {query}\",\n",
    "    )\n",
    "    return result"
   ]
  },
  {
   "cell_type": "code",
   "execution_count": null,
   "metadata": {},
   "outputs": [
    {
     "data": {
      "text/plain": [
       "WebSearchPlan(searches=[WebSearchItem(reason='了解机器学习的基本概念和定义，为后续深入研究打下基础。', query='机器学习 定义'), WebSearchItem(reason='探索机器学习在现实世界中的具体应用，帮助理解其重要性和用途。', query='机器学习 应用'), WebSearchItem(reason='确认常见的机器学习算法及其分类，帮助全面了解该领域。', query='机器学习 算法'), WebSearchItem(reason='掌握最新的机器学习发展趋势，有助于了解技术前沿。', query='机器学习 发展趋势'), WebSearchItem(reason='寻找高质量的学习资源，适合初学者或希望深入学习的人士。', query='机器学习 教程')])"
      ]
     },
     "metadata": {},
     "output_type": "display_data"
    }
   ],
   "source": [
    "result.final_output"
   ]
  }
 ],
 "metadata": {
  "kernelspec": {
   "display_name": "LLM",
   "language": "python",
   "name": "python3"
  },
  "language_info": {
   "codemirror_mode": {
    "name": "ipython",
    "version": 3
   },
   "file_extension": ".py",
   "mimetype": "text/x-python",
   "name": "python",
   "nbconvert_exporter": "python",
   "pygments_lexer": "ipython3",
   "version": "3.12.0"
  }
 },
 "nbformat": 4,
 "nbformat_minor": 2
}
