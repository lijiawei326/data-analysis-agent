{
 "cells": [
  {
   "cell_type": "code",
   "execution_count": 9,
   "metadata": {},
   "outputs": [],
   "source": [
    "import os\n",
    "import sys\n",
    "\n",
    "# 获取当前notebook的绝对路径\n",
    "notebook_path = os.path.abspath(\"\")\n",
    "\n",
    "# 获取上一层目录\n",
    "parent_dir = os.path.dirname(notebook_path)\n",
    "\n",
    "# 添加路径\n",
    "if parent_dir not in sys.path:\n",
    "    sys.path.insert(0, parent_dir)\n",
    "\n",
    "# 导入模块\n",
    "from rich.console import Console\n",
    "from printer import Printer\n",
    "from agents import RunHooks, RunContextWrapper, Agent, Tool\n",
    "from typing import Any"
   ]
  },
  {
   "cell_type": "code",
   "execution_count": null,
   "metadata": {},
   "outputs": [],
   "source": [
    "class Hooks_with_printer(RunHooks):\n",
    "    def __init__(self, console: Console):\n",
    "        self.printer = Printer(console)\n",
    "        self.event_counter = 0\n",
    "    async def on_agent_start(self, context: RunContextWrapper, agent: Agent) -> None:\n",
    "        self.printer.update_item(\"agent_start\", f\"Agent {agent.name} started\", is_done=True, hide_checkmark=True)\n",
    "        self.event_counter += 1\n",
    "\n",
    "    async def on_agent_end(self, context: RunContextWrapper, agent: Agent, output: Any) -> None:\n",
    "        self.printer.update_item(\"agent_end\", f\"Agent {agent.name} ended with output {output}\", is_done=True, hide_checkmark=True)\n",
    "        self.event_counter += 1\n",
    "\n",
    "    async def on_tool_start(self, context: RunContextWrapper, agent: Agent, tool: Tool) -> None:\n",
    "        self.printer.update_item(\"tool_start\", f\"Tool {tool.name} started\")\n",
    "        self.event_counter += 1"
   ]
  }
 ],
 "metadata": {
  "kernelspec": {
   "display_name": "LLM",
   "language": "python",
   "name": "python3"
  },
  "language_info": {
   "codemirror_mode": {
    "name": "ipython",
    "version": 3
   },
   "file_extension": ".py",
   "mimetype": "text/x-python",
   "name": "python",
   "nbconvert_exporter": "python",
   "pygments_lexer": "ipython3",
   "version": "3.12.0"
  }
 },
 "nbformat": 4,
 "nbformat_minor": 2
}
